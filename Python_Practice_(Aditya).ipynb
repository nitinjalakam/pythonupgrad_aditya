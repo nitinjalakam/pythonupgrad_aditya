{
  "nbformat": 4,
  "nbformat_minor": 0,
  "metadata": {
    "colab": {
      "provenance": [],
      "authorship_tag": "ABX9TyP3JZg3z1qRl0NrqSQ1Ga9h",
      "include_colab_link": true
    },
    "kernelspec": {
      "name": "python3",
      "display_name": "Python 3"
    },
    "language_info": {
      "name": "python"
    }
  },
  "cells": [
    {
      "cell_type": "markdown",
      "metadata": {
        "id": "view-in-github",
        "colab_type": "text"
      },
      "source": [
        "<a href=\"https://colab.research.google.com/github/nitinjalakam/pythonupgrad_aditya/blob/main/Python_Practice_(Aditya).ipynb\" target=\"_parent\"><img src=\"https://colab.research.google.com/assets/colab-badge.svg\" alt=\"Open In Colab\"/></a>"
      ]
    },
    {
      "cell_type": "code",
      "source": [
        "# Class\n",
        "\n",
        "class flashcard:\n",
        "  def __init__(self):\n",
        "    self.fruits = {'apple':'red','orange':'orange','banana':'yellow'}\n",
        "  def quiz(self):\n",
        "  def random.choice(self):\n",
        "      return random.choice(list(self.fruits.items()))\n",
        "        while (True):\n",
        "         fruit,color = random.choice()\n",
        "         print(\"What is the color of {}\".format(fruit))\n",
        "         user_answer = input()\n",
        "         if(user_answer.lower() == color):\n",
        "                print(\"Correct answer\")\n",
        "         else:\n",
        "                print(\"Wrong answer\")\n",
        "         option = int(input(\"enter 0, if you want to play again : \"))\n",
        "         if (option):\n",
        "         break\n",
        "\n",
        "print(\"welcome to fruit quiz\")\n",
        "fc=flashcard()\n",
        "fc.quiz ()\n",
        "\n"
      ],
      "metadata": {
        "colab": {
          "base_uri": "https://localhost:8080/",
          "height": 106
        },
        "id": "dR4NO0P1Afmb",
        "outputId": "d36ebe66-af7f-4a1c-8264-f6ba6b1d1ef9"
      },
      "execution_count": 23,
      "outputs": [
        {
          "output_type": "error",
          "ename": "IndentationError",
          "evalue": "expected an indented block after function definition on line 6 (<ipython-input-23-d15aae61f2d5>, line 7)",
          "traceback": [
            "\u001b[0;36m  File \u001b[0;32m\"<ipython-input-23-d15aae61f2d5>\"\u001b[0;36m, line \u001b[0;32m7\u001b[0m\n\u001b[0;31m    def random.choice(self):\u001b[0m\n\u001b[0m    ^\u001b[0m\n\u001b[0;31mIndentationError\u001b[0m\u001b[0;31m:\u001b[0m expected an indented block after function definition on line 6\n"
          ]
        }
      ]
    },
    {
      "cell_type": "code",
      "source": [],
      "metadata": {
        "id": "TVZBurRDQwJG"
      },
      "execution_count": null,
      "outputs": []
    }
  ]
}